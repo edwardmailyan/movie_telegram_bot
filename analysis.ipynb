{
 "cells": [
  {
   "cell_type": "code",
   "execution_count": 1,
   "id": "f22cd8bf",
   "metadata": {
    "ExecuteTime": {
     "end_time": "2024-06-23T21:11:00.706435Z",
     "start_time": "2024-06-23T21:10:59.571073Z"
    }
   },
   "outputs": [],
   "source": [
    "import matplotlib.pyplot as plt\n",
    "import seaborn as sns\n",
    "import pandas as pd\n",
    "from notion import NotionClient\n",
    "import os\n",
    "\n",
    "sns.set()"
   ]
  },
  {
   "cell_type": "code",
   "execution_count": 2,
   "id": "b8d82083",
   "metadata": {
    "ExecuteTime": {
     "end_time": "2024-06-23T21:11:00.717126Z",
     "start_time": "2024-06-23T21:11:00.715491Z"
    }
   },
   "outputs": [],
   "source": [
    "NOTION_TOKEN='secret_5PtdDrz7gxkYA7EvGU3avBDgT4QYUdest1YfdzShyAk'\n",
    "DB_ID='e0991aeff57f4ec69ee021ded22dd326'"
   ]
  },
  {
   "cell_type": "code",
   "execution_count": 3,
   "id": "55e4b6e2",
   "metadata": {
    "ExecuteTime": {
     "end_time": "2024-06-23T21:11:04.635343Z",
     "start_time": "2024-06-23T21:11:00.729590Z"
    }
   },
   "outputs": [],
   "source": [
    "notion = NotionClient(NOTION_TOKEN, DB_ID)"
   ]
  },
  {
   "cell_type": "code",
   "execution_count": 4,
   "id": "67e32bcc",
   "metadata": {
    "ExecuteTime": {
     "end_time": "2024-06-23T21:11:10.725313Z",
     "start_time": "2024-06-23T21:11:04.654181Z"
    }
   },
   "outputs": [],
   "source": [
    "movies = notion.get_movies()"
   ]
  },
  {
   "cell_type": "code",
   "execution_count": 5,
   "id": "7f1a10b4",
   "metadata": {
    "ExecuteTime": {
     "end_time": "2024-06-23T21:11:10.923246Z",
     "start_time": "2024-06-23T21:11:10.757787Z"
    }
   },
   "outputs": [
    {
     "data": {
      "image/png": "[encoded data removed]",
      "text/plain": [
       "<Figure size 648x432 with 1 Axes>"
      ]
     },
     "metadata": {
      "needs_background": "light"
     },
     "output_type": "display_data"
    }
   ],
   "source": [
    "plt.figure(figsize=(9, 6))\n",
    "sns.histplot(data=movies, x='Rating');"
   ]
  },
  {
   "cell_type": "code",
   "execution_count": 9,
   "id": "1abd53a2",
   "metadata": {
    "ExecuteTime": {
     "end_time": "2024-06-23T21:12:24.527097Z",
     "start_time": "2024-06-23T21:12:24.516802Z"
    }
   },
   "outputs": [
    {
     "data": {
      "text/plain": [
       "(109, 3)"
      ]
     },
     "execution_count": 9,
     "metadata": {},
     "output_type": "execute_result"
    }
   ],
   "source": [
    "movies[movies['Status'] != 'watched'].shape"
   ]
  },
  {
   "cell_type": "code",
   "execution_count": 7,
   "id": "f5e21337",
   "metadata": {
    "ExecuteTime": {
     "end_time": "2024-06-23T21:11:15.714111Z",
     "start_time": "2024-06-23T21:11:15.598810Z"
    }
   },
   "outputs": [
    {
     "data": {
      "text/plain": [
       "<AxesSubplot: xlabel='Status', ylabel='count'>"
      ]
     },
     "execution_count": 7,
     "metadata": {},
     "output_type": "execute_result"
    },
    {
     "data": {
      "image/png": "[encoded data removed]",
      "text/plain": [
       "<Figure size 432x288 with 1 Axes>"
      ]
     },
     "metadata": {
      "needs_background": "light"
     },
     "output_type": "display_data"
    }
   ],
   "source": [
    "sns.countplot(data=movies, x='Status')"
   ]
  },
  {
   "cell_type": "code",
   "execution_count": null,
   "id": "bd783d14",
   "metadata": {},
   "outputs": [],
   "source": []
  }
 ],
 "metadata": {
  "kernelspec": {
   "display_name": "Python 3 (ipykernel)",
   "language": "python",
   "name": "python3"
  },
  "language_info": {
   "codemirror_mode": {
    "name": "ipython",
    "version": 3
   },
   "file_extension": ".py",
   "mimetype": "text/x-python",
   "name": "python",
   "nbconvert_exporter": "python",
   "pygments_lexer": "ipython3",
   "version": "3.9.12"
  },
  "toc": {
   "base_numbering": 1,
   "nav_menu": {},
   "number_sections": true,
   "sideBar": true,
   "skip_h1_title": false,
   "title_cell": "Table of Contents",
   "title_sidebar": "Contents",
   "toc_cell": false,
   "toc_position": {},
   "toc_section_display": true,
   "toc_window_display": false
  },
  "varInspector": {
   "cols": {
    "lenName": 16,
    "lenType": 16,
    "lenVar": 40
   },
   "kernels_config": {
    "python": {
     "delete_cmd_postfix": "",
     "delete_cmd_prefix": "del ",
     "library": "var_list.py",
     "varRefreshCmd": "print(var_dic_list())"
    },
    "r": {
     "delete_cmd_postfix": ") ",
     "delete_cmd_prefix": "rm(",
     "library": "var_list.r",
     "varRefreshCmd": "cat(var_dic_list()) "
    }
   },
   "types_to_exclude": [
    "module",
    "function",
    "builtin_function_or_method",
    "instance",
    "_Feature"
   ],
   "window_display": false
  }
 },
 "nbformat": 4,
 "nbformat_minor": 5
}
